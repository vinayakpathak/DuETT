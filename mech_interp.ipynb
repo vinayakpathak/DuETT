{
 "cells": [
  {
   "cell_type": "code",
   "execution_count": null,
   "id": "992b7dcf-528f-4f32-97e3-861138a2ea88",
   "metadata": {},
   "outputs": [],
   "source": [
    "import pytorch_lightning as pl\n",
    "\n",
    "import duett\n",
    "\n",
    "import physionet\n",
    "\n",
    "from torchinfo import summary\n",
    "\n",
    "import torch"
   ]
  },
  {
   "cell_type": "code",
   "execution_count": null,
   "id": "b3cb91bc-7953-46b0-910d-83f6c0753333",
   "metadata": {},
   "outputs": [],
   "source": [
    "dm = physionet.PhysioNetDataModule(batch_size=512, num_workers=0, use_temp_cache=True)\n",
    "\n",
    "model = duett.Model.load_from_checkpoint('checkpoints/last.ckpt', d_static_num=dm.d_static_num(), \n",
    "                                         d_time_series_num=dm.d_time_series_num(),\n",
    "                                         d_target=dm.d_target()\n",
    "                                        )\n",
    "\n",
    "pl.seed_everything(2022)\n",
    "\n",
    "trainer = pl.Trainer(gpus=1, max_epochs=50)\n",
    "\n",
    "model.eval()\n",
    "\n",
    "model.mode = 'interp'\n",
    "\n",
    "trainer.test(model, dm)"
   ]
  },
  {
   "cell_type": "code",
   "execution_count": null,
   "id": "197f6ad6-260f-454b-b983-c0a692811af7",
   "metadata": {},
   "outputs": [],
   "source": []
  }
 ],
 "metadata": {
  "kernelspec": {
   "display_name": "Python 3 (ipykernel)",
   "language": "python",
   "name": "python3"
  },
  "language_info": {
   "codemirror_mode": {
    "name": "ipython",
    "version": 3
   },
   "file_extension": ".py",
   "mimetype": "text/x-python",
   "name": "python",
   "nbconvert_exporter": "python",
   "pygments_lexer": "ipython3",
   "version": "3.8.10"
  }
 },
 "nbformat": 4,
 "nbformat_minor": 5
}
